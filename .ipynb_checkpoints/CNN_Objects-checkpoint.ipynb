{
 "cells": [
  {
   "cell_type": "markdown",
   "metadata": {
    "_uuid": "c94d7376373c59197fc53fa55d5b6a9803691f9d"
   },
   "source": [
    "**Caltech 256 Dataset with Fastai V1**\n",
    "\n",
    "Over 30,000 images in 256 object categories\n"
   ]
  },
  {
   "cell_type": "markdown",
   "metadata": {
    "_uuid": "6d96ab3de06024318ec303141c820e96a21cbafa"
   },
   "source": [
    "Previously I have found image classification problems to be challenging when there are a large number of image classes.  Here I test the default [Fastai](http://fast.ai) image classifier against a dataset containing 256 object categories."
   ]
  },
  {
   "cell_type": "code",
   "execution_count": null,
   "metadata": {
    "_uuid": "b3d5d48535fc7d825d921c6b31a4add23919047c"
   },
   "outputs": [],
   "source": [
    "import numpy as np\n",
    "import pandas as pd\n",
    "import matplotlib.pyplot as plt\n",
    "\n",
    "from fastai import *\n",
    "from fastai.vision import *\n",
    "from fastai.callbacks.hooks import *\n",
    "\n",
    "import torch\n",
    "print('pytorch version: ',torch.__version__)\n",
    "import fastai\n",
    "print('fastai version: ',fastai.__version__)\n",
    "\n",
    "%reload_ext autoreload\n",
    "%autoreload 2\n",
    "%matplotlib inline\n",
    "\n",
    "!pip freeze > '../working/requirements.txt'"
   ]
  },
  {
   "cell_type": "code",
   "execution_count": null,
   "metadata": {
    "_uuid": "fed2ccc11f8afced59f5120af4f0fb46145b5f7b"
   },
   "outputs": [],
   "source": [
    "img_dir='../input/256_objectcategories/256_ObjectCategories'\n",
    "path=Path(img_dir)\n",
    "data = ImageDataBunch.from_folder(path, train=\".\", \n",
    "                                  valid_pct=0.2,\n",
    "                                  ds_tfms=get_transforms(do_flip=False,flip_vert=False, max_rotate=0,max_lighting=0.3),\n",
    "                                  size=224,bs=64, \n",
    "                                  num_workers=0).normalize(imagenet_stats)\n",
    "print(f'Classes: \\n {data.classes}')\n",
    "data.show_batch(rows=8, figsize=(40,40))"
   ]
  },
  {
   "cell_type": "code",
   "execution_count": null,
   "metadata": {
    "_uuid": "4fbfe2a6926137b5229f7ad0ba119821c1ace279"
   },
   "outputs": [],
   "source": [
    "learn = create_cnn(data, models.resnet34, metrics=accuracy, model_dir=\"/tmp/model/\")\n",
    "learn.fit_one_cycle(25)"
   ]
  },
  {
   "cell_type": "code",
   "execution_count": null,
   "metadata": {
    "_uuid": "aae95126b92d4fd75e3ca7a7c7ef27485bed2d5f"
   },
   "outputs": [],
   "source": [
    "interp = ClassificationInterpretation.from_learner(learn)\n",
    "interp.plot_confusion_matrix(figsize=(40,40), dpi=60)"
   ]
  },
  {
   "cell_type": "markdown",
   "metadata": {
    "_uuid": "9b72e8cb73a19fb1599200271c34409886a48594"
   },
   "source": [
    "85% accuracy is pretty good given 256 categories and so few lines of code! \n",
    "\n",
    "Note that this result is slightly more accurate than the result when tested against the [StanfordCars](https://www.kaggle.com/paultimothymooney/stanford-cars-dataset-with-fastai-v1) dataset, but is slightly less accurate than the result when tested against the [SimpsonsCharacters](https://www.kaggle.com/paultimothymooney/simpsons-characters-dataset-with-fastai-v1) dataset."
   ]
  },
  {
   "cell_type": "markdown",
   "metadata": {
    "_uuid": "82cfd3278893b92172c99ac915e36c3e60685ad5"
   },
   "source": [
    "Credit: Adapted from https://course.fast.ai/videos/?lesson=1"
   ]
  }
 ],
 "metadata": {
  "kernelspec": {
   "display_name": "Python 3",
   "language": "python",
   "name": "python3"
  },
  "language_info": {
   "codemirror_mode": {
    "name": "ipython",
    "version": 3
   },
   "file_extension": ".py",
   "mimetype": "text/x-python",
   "name": "python",
   "nbconvert_exporter": "python",
   "pygments_lexer": "ipython3",
   "version": "3.6.8"
  }
 },
 "nbformat": 4,
 "nbformat_minor": 1
}
