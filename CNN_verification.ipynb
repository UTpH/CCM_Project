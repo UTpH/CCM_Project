{
 "cells": [
  {
   "cell_type": "markdown",
   "metadata": {},
   "source": [
    "In this assignment, you will help implement and analyze a neural network model of semantic cognition. Semantic cognition is our intuitive understanding of objects and their properties. Semantic knowledge includes observations of which objects have which properties, and storage of these facts in long term memory. It also includes the ability to generalize, or predict which properties apply to which objects although they have not been directly observed.\n",
    "\n",
    "This notebook explores a neural network model of semantic cognition developed by Rogers and McClelland (R&M). R&M sought to model aspects of semantic cognition with a multi-layer neural network, which contrasts with classic symbolic approaches for organizing semantic knowledge. They model the cognitive development of semantic representation as gradient descent (the backpropgation algorithm), using a neural network trained to map objects to their corresponding properties. R&M also modeled the deterioration of semantic knowledge in dementia by adding noise to the learned representations.\n",
    "\n",
    "The network architecture is illustrated below.\n",
    "<img src=\"images/semcog_net.jpeg\" style=\"width: 450px;\"/>\n",
    "There are two input layers (\"Item Layer\" and \"Relation Layer\"), which pass through intermediate layers to produce an output pattern on the \"Attribute Layer.\" In this example, dark green is used to indicate active nodes (activation 1) and light green for inactive nodes (activation 0). The network is trained to answer queries involving an item (e.g., “Canary”) and a relation (e.g.,  “CAN”), outputting all attributes that are true of the item/relation pair (e.g., “grow, move, fly, sing”).\n",
    "\n",
    "For this assignment, you will set up the network architecture in PyTorch and train it. The dataset and code for training has been provided. You will then analyze how its semantic knowledge develops of the course of training. While the original model used logistic (sigmoid) activation functions for all of the intermediate and output layers, we will use the ReLu activation for the Representation and Hidden Layers, with a sigmoid activation for the Attribute Layer.\n",
    "\n",
    "Completing this assignment requires knowledge of setting up a neural network architecture in PyTorch. Please review your notes from lab, and these three basic [PyTorch tutorials](https://pytorch.org/tutorials/beginner/deep_learning_60min_blitz.html), \"What is PyTorch?\", \"Autograd\", and \"Neural Networks\" which should have the basics you need.\n",
    "\n",
    "<div class=\"alert alert-info\">\n",
    "Reference (on NYU Classes):\n",
    "    \n",
    "McClelland, J. L., & Rogers, T. T. (2003). The parallel distributed processing approach to semantic cognition. Nature Reviews Neuroscience, 4(4), 310.\n",
    "</div>"
   ]
  },
  {
   "cell_type": "code",
   "execution_count": 1,
   "metadata": {},
   "outputs": [],
   "source": [
    "# Import libraries\n",
    "from __future__ import print_function\n",
    "import matplotlib\n",
    "import random\n",
    "%matplotlib inline\n",
    "import matplotlib.pyplot as plt\n",
    "import numpy as np\n",
    "import torch\n",
    "import torch.nn as nn\n",
    "from torch.nn.functional import sigmoid, relu\n",
    "from scipy.cluster.hierarchy import dendrogram, linkage"
   ]
  },
  {
   "cell_type": "markdown",
   "metadata": {},
   "source": [
    "Let's first load in the names of all the items, attributes, and relations into Python lists."
   ]
  },
  {
   "cell_type": "code",
   "execution_count": 2,
   "metadata": {
    "scrolled": true
   },
   "outputs": [
    {
     "name": "stdout",
     "output_type": "stream",
     "text": [
      "List of items:\n",
      "['Tomato' 'Grape' 'Hibiscus' 'Sunflower' 'Hummingbird' 'Owl' 'Goldfish'\n",
      " 'Octopus' 'Horse' 'Dog' 'Car' 'Bus' 'Bicycle']\n",
      "List of relations:\n",
      "['ISA' 'IS' 'CAN' 'HAS' 'NEEDS']\n",
      "List of attributes:\n",
      "['Living Thing' 'Plant' 'Fruit' 'Tomato' 'Grape' 'Flower' 'Hibiscus'\n",
      " 'Sunflower' 'Hummingbird' 'Animal' 'Bird' 'Owl' 'Goldfish' 'Water borne'\n",
      " 'Octopus' 'Mollusk' 'Horse' 'Land Animal' 'Dog' 'Non Living Thing' 'Car'\n",
      " 'Vehicle' 'Bus' 'Bicycle' 'Living' 'Red' 'Juicy' 'Green' 'Pretty'\n",
      " 'Yellow' 'Diurnal' 'Nocturnal' 'Small' '4 Legged' 'Domestic' 'Motorized'\n",
      " 'Big' 'Non Motorized' 'Grow' 'Rot' 'Move' 'Fly' 'Hum' 'Hoot' 'Swim' 'Run'\n",
      " 'Strut' 'Neigh' 'Bark' 'Skin' 'Seeds' 'Petals' 'Feathers' 'Wings' 'Fins'\n",
      " 'Gills' 'Scales' 'Tentacles' 'Mane' 'Hooves' 'Fur' 'Paws' '4 Wheels'\n",
      " 'Engine' 'Horn' '6 Wheels' '2 Wheels' 'Bell' 'Water' 'CO2' 'Oxygen'\n",
      " 'Food' 'Sleep' 'Fuel']\n"
     ]
    }
   ],
   "source": [
    "# np.random.seed(390) #390\n",
    "# torch.manual_seed(390)\n",
    "# torch.backends.cudnn.deterministic=True\n",
    "seed = 390\n",
    "torch.manual_seed(seed)\n",
    "torch.cuda.manual_seed(seed)\n",
    "torch.cuda.manual_seed_all(seed)  # if you are using multi-GPU.\n",
    "np.random.seed(seed)  # Numpy module.\n",
    "random.seed(seed)  # Python random module.\n",
    "torch.manual_seed(seed)\n",
    "torch.backends.cudnn.benchmark = False\n",
    "torch.backends.cudnn.deterministic = True\n",
    "cuda = torch.cuda.is_available()\n",
    "if cuda:\n",
    "    torch.cuda.manual_seed(390)\n",
    "with open('data/items.txt','r') as fid:\n",
    "    names_items = np.array([l.strip() for l in fid.readlines()])\n",
    "with open('data/relations.txt','r') as fid:\n",
    "    names_relations = np.array([l.strip() for l in fid.readlines()])\n",
    "with open('data/attributes.txt','r') as fid:\n",
    "    names_attributes = np.array([l.strip() for l in fid.readlines()])\n",
    "        \n",
    "nobj = len(names_items)\n",
    "nrel = len(names_relations)\n",
    "nattributes = len(names_attributes)\n",
    "print('List of items:')\n",
    "print(names_items)\n",
    "print(\"List of relations:\")\n",
    "print(names_relations)\n",
    "print(\"List of attributes:\")\n",
    "print(names_attributes)"
   ]
  },
  {
   "cell_type": "markdown",
   "metadata": {},
   "source": [
    "Next, let's load in the data matrix from a text file too. The matrix `D` has a row for each training pattern. It is split into a matrix of input patterns `input_pats` (item and relation) and their corresponding output patterns `output_pats` (attributes). The are `N` patterns total in the set.\n",
    "\n",
    "For each input pattern, the first 8 elements indicate which item is being presented, and the next 4 indicate which relation is being queried. Each element of the output pattern corresponds to a different attribute. All patterns use 1-hot encoding."
   ]
  },
  {
   "cell_type": "code",
   "execution_count": 3,
   "metadata": {},
   "outputs": [
    {
     "name": "stdout",
     "output_type": "stream",
     "text": [
      "Example input pattern:\n",
      "[1 0 0 0 0 0 0 0 0 0 0 0 0 1 0 0 0 0]\n",
      "Example output pattern:\n",
      "[1 1 1 1 0 0 0 0 0 0 0 0 0 0 0 0 0 0 0 0 0 0 0 0 0 0 0 0 0 0 0 0 0 0 0 0 0\n",
      " 0 0 0 0 0 0 0 0 0 0 0 0 0 0 0 0 0 0 0 0 0 0 0 0 0 0 0 0 0 0 0 0 0 0 0 0 0]\n",
      "\n",
      "Which encodes...\n",
      "Item ['Tomato']\n",
      "Relation ['ISA']\n",
      "Attributes ['Living Thing' 'Plant' 'Fruit' 'Tomato']\n"
     ]
    }
   ],
   "source": [
    "D = np.loadtxt('data/data.txt')\n",
    "input_pats = D[:,:nobj+nrel]\n",
    "input_pats = torch.tensor(input_pats,dtype=torch.float)\n",
    "output_pats = D[:,nobj+nrel:]\n",
    "output_pats = torch.tensor(output_pats,dtype=torch.float)\n",
    "N = input_pats.shape[0] # number of training patterns\n",
    "input_v = input_pats[0,:].numpy().astype('bool')\n",
    "output_v = output_pats[0,:].numpy().astype('bool')\n",
    "print('Example input pattern:')\n",
    "print(input_v.astype('int'))\n",
    "print('Example output pattern:')\n",
    "print(output_v.astype('int'))\n",
    "print(\"\")\n",
    "print(\"Which encodes...\")\n",
    "print('Item ',end='')\n",
    "print(names_items[input_v[:13]])\n",
    "print('Relation ',end='')\n",
    "print(names_relations[input_v[13:]])\n",
    "print('Attributes ',end='')\n",
    "print(names_attributes[output_v])"
   ]
  },
  {
   "cell_type": "markdown",
   "metadata": {},
   "source": [
    "<div class=\"alert alert-success\" role=\"alert\">\n",
    "<h3> Problem 1 (15 points) </h3>\n",
    "<br>\n",
    "Your assignment is to create the neural network architecture shown in the figure above. Fill in the missing pieces of the \"Net\" class in the code below. For an example, refer to the PyTorch tutorial on <a href=\"https://pytorch.org/tutorials/beginner/blitz/neural_networks_tutorial.html#sphx-glr-beginner-blitz-neural-networks-tutorial-py\">\"Neural Networks\"</a>.\n",
    "<br><br>\n",
    "Use the ReLu activation function (\"relu\") for the Representation and Hidden Layers, with a Logistic/Sigmoid activation function for the Attribute Layer (\"sigmoid\").    \n",
    "<br><br>\n",
    "You will need PyTorch's \"nn.Linear\" function for constructing the layers, and the \"relu\" and \"sigmoid\" activation functions.\n",
    "</div>"
   ]
  },
  {
   "cell_type": "code",
   "execution_count": 4,
   "metadata": {},
   "outputs": [],
   "source": [
    "class Net(nn.Module):\n",
    "    def __init__(self, rep_size, hidden_size):\n",
    "        super(Net, self).__init__()\n",
    "        # Input\n",
    "        #  rep_size : number of hidden units in \"Representation Layer\"\n",
    "        #  hidden_Size : number of hidden units in \"Hidden Layer\"\n",
    "        #\n",
    "#         raise Exception('Replace with your code.')\n",
    "        self.i2rep = nn.Linear(rep_size, rep_size)\n",
    "        self.rep2h = nn.Linear(rep_size+5,hidden_size)\n",
    "        self.h2o = nn.Linear(hidden_size,74)\n",
    "\n",
    "    def forward(self, x):\n",
    "        # Defines forward pass for the network on input patterns x\n",
    "        #\n",
    "        # Input can take these two forms:\n",
    "        #\n",
    "        #   x: [nobj+nrel 1D Tensor], which is a single input pattern as a 1D tensor\n",
    "        #      (containing both object and relation 1-hot identifier) (batch size is B=1)\n",
    "        #   OR\n",
    "        #   x : [B x (nobj+nrel) Tensor], which is a batch of B input patterns (one for each row)\n",
    "        #\n",
    "        # Output\n",
    "        #   output [B x nattribute Tensor], which is the output pattern for each input pattern B on the Attribute Layer\n",
    "        #   hidden [B x hidden_size Tensor], which are activations in the Hidden Layer\n",
    "        #   rep [B x rep_size Tensor], which are the activations in the Representation LAyer\n",
    "        x = x.view(-1,nobj+nrel) # reshape as size [B x (nobj+nrel) Tensor] if B=1\n",
    "        x_item = x[:,:nobj] # input to Item Layer [B x nobj Tensor]\n",
    "        x_rel = x[:,nobj:] # input to Relation Layer [B x nrel Tensor]\n",
    "        rep_withoutrel = relu(self.i2rep(x_item))\n",
    "        rep = torch.cat((rep_withoutrel, x_rel), dim=1)\n",
    "        hidden = relu(self.rep2h(rep))\n",
    "        output = sigmoid(self.h2o(hidden))\n",
    "        \n",
    "#         raise Exception('Replace with your code.')\n",
    "        # -----\n",
    "        return output, hidden, rep"
   ]
  },
  {
   "cell_type": "markdown",
   "metadata": {},
   "source": [
    "We provide a completed function `train` for stochastic gradient descent. The network makes online (rather than batch) updates, adjusting its weights after the presentation of each input pattern."
   ]
  },
  {
   "cell_type": "code",
   "execution_count": 5,
   "metadata": {},
   "outputs": [],
   "source": [
    "def train(mynet,epoch_count,nepochs_additional=5000):\n",
    "    # Input\n",
    "    #  mynet : Net class object\n",
    "    #  epoch_count : (scalar) how many epochs have been completed so far\n",
    "    #  nepochs_additional : (scalar) how many more epochs we want to run\n",
    "    mynet.train()\n",
    "    for e in range(nepochs_additional): # for each epoch\n",
    "        error_epoch = 0.\n",
    "        perm = np.random.permutation(N)\n",
    "#         for p in perm: # iterate through input patterns in random order\n",
    "        for i in range(len(cnn_res.data.train_ds)):\n",
    "            img=cnn_res.data.train_ds[i][0]\n",
    "            x=cnn_res.predict(img)[2]\n",
    "            \n",
    "            \n",
    "        for p in range(N):\n",
    "            mynet.zero_grad() # reset gradient\n",
    "            output, hidden, rep = mynet(input_pats[p,:]) # forward pass\n",
    "            target = output_pats[p,:] \n",
    "            loss = criterion(output, target) # compute loss\n",
    "            loss.backward() # compute gradient \n",
    "            optimizer.step() # update network parameters\n",
    "            error_epoch += loss.item()\n",
    "        error_epoch = error_epoch / float(N)        \n",
    "        if e % 50 == 0:\n",
    "            print('epoch ' + str(epoch_count+e) + ' loss ' + str(round(error_epoch,3)))\n",
    "    return epoch_count + nepochs_additional"
   ]
  },
  {
   "cell_type": "markdown",
   "metadata": {},
   "source": [
    "We provide some useful functions for extracting the activation pattern on the Representation Layer for each possible item. We provide two functions `plot_rep` and `plot_dendo` for visualizing these activation patterns."
   ]
  },
  {
   "cell_type": "code",
   "execution_count": 6,
   "metadata": {},
   "outputs": [],
   "source": [
    "def get_rep(net):\n",
    "    # Extract the hidden activations on the Representation Layer for each item\n",
    "    # \n",
    "    # Input\n",
    "    #  net : Net class object\n",
    "    #\n",
    "    # Output\n",
    "    #  rep : [nitem x rep_size numpy array], where each row is an item\n",
    "    input_clean = torch.zeros(nobj,nobj+nrel)\n",
    "    for idx,name in enumerate(names_items):\n",
    "        input_clean[idx,idx] = 1. # 1-hot encoding of each object (while Relation Layer doesn't matter)\n",
    "    output, hidden, rep = mynet(input_clean)\n",
    "    return rep.detach().numpy()\n",
    "\n",
    "def plot_rep(rep1,rep2,rep3,names):\n",
    "    #  Compares Representation Layer activations of Items at three different times points in learning (rep1, rep2, rep3)\n",
    "    #  using bar graphs\n",
    "    # \n",
    "    #  Each rep1, rep2, rep3 is a [nitem x rep_size numpy array]\n",
    "    #  names : [nitem list] of item names\n",
    "    #\n",
    "    nepochs_list = [nepochs_phase1,nepochs_phase2,nepochs_phase3]\n",
    "    nrows = nobj\n",
    "    R = np.dstack((rep1,rep2,rep3))    \n",
    "    mx = R.max()\n",
    "    mn = R.min()\n",
    "    depth = R.shape[2]\n",
    "    count = 1\n",
    "    plt.figure(1,figsize=(4.2,8.4))\n",
    "    for i in range(nrows):\n",
    "        for d in range(R.shape[2]):\n",
    "            plt.subplot(nrows, depth, count)\n",
    "            rep = R[i,:,d]\n",
    "            plt.bar(range(rep.size),rep)\n",
    "            plt.ylim([mn,mx])\n",
    "            plt.xticks([])\n",
    "            plt.yticks([])        \n",
    "            if d==0:\n",
    "                plt.ylabel(names[i])\n",
    "            if i==0:\n",
    "                plt.title(\"epoch \" + str(nepochs_list[d]))\n",
    "            count += 1\n",
    "    plt.show()\n",
    "\n",
    "def plot_dendo(rep1,rep2,rep3,names):\n",
    "    #  Compares Representation Layer activations of Items at three different times points in learning (rep1, rep2, rep3)\n",
    "    #  using hierarchical clustering\n",
    "    # \n",
    "    #  Each rep1, rep2, rep3 is a [nitem x rep_size numpy array]\n",
    "    #  names : [nitem list] of item names\n",
    "    #\n",
    "    nepochs_list = [nepochs_phase1,nepochs_phase2,nepochs_phase3]\n",
    "    linked1 = linkage(rep1,'single')\n",
    "    linked2 = linkage(rep2,'single')\n",
    "    linked3 = linkage(rep3,'single')\n",
    "    mx = np.dstack((linked1[:,2],linked2[:,2],linked3[:,2])).max()+0.1    \n",
    "    plt.figure(2,figsize=(17,12))\n",
    "    plt.subplot(3,1,1)    \n",
    "    dendrogram(linked1, labels=names, color_threshold=0)\n",
    "    plt.ylim([0,mx])\n",
    "    plt.title('Hierarchical clustering; ' + \"epoch \" + str(nepochs_list[0]))\n",
    "    plt.ylabel('Euclidean distance')\n",
    "    plt.subplot(3,1,2)\n",
    "    plt.title(\"epoch \" + str(nepochs_list[1]))\n",
    "    dendrogram(linked2, labels=names, color_threshold=0)\n",
    "    plt.ylim([0,mx])\n",
    "    plt.subplot(3,1,3)\n",
    "    plt.title(\"epoch \" + str(nepochs_list[2]))\n",
    "    dendrogram(linked3, labels=names, color_threshold=0)\n",
    "    plt.ylim([0,mx])\n",
    "    plt.show()"
   ]
  },
  {
   "cell_type": "markdown",
   "metadata": {},
   "source": [
    "The next script initializes the neural network and trains it for 4000 epochs total. It trains in three stages, and the item representations (on the Representation Layer) are extracted after 500 epochs, 1500 epochs, and then at the end of training (4000 epochs)."
   ]
  },
  {
   "cell_type": "code",
   "execution_count": 7,
   "metadata": {},
   "outputs": [
    {
     "name": "stdout",
     "output_type": "stream",
     "text": [
      "Using CPU\n"
     ]
    },
    {
     "name": "stderr",
     "output_type": "stream",
     "text": [
      "M:\\Anaconda\\lib\\site-packages\\torch\\nn\\functional.py:1386: UserWarning: nn.functional.sigmoid is deprecated. Use torch.sigmoid instead.\n",
      "  warnings.warn(\"nn.functional.sigmoid is deprecated. Use torch.sigmoid instead.\")\n",
      "M:\\Anaconda\\lib\\site-packages\\torch\\nn\\modules\\loss.py:443: UserWarning: Using a target size (torch.Size([74])) that is different to the input size (torch.Size([1, 74])). This will likely lead to incorrect results due to broadcasting. Please ensure they have the same size.\n",
      "  return F.mse_loss(input, target, reduction=self.reduction)\n"
     ]
    },
    {
     "name": "stdout",
     "output_type": "stream",
     "text": [
      "epoch 0 loss 0.252\n",
      "epoch 50 loss 0.032\n",
      "epoch 100 loss 0.032\n",
      "epoch 150 loss 0.032\n",
      "epoch 200 loss 0.031\n",
      "epoch 250 loss 0.031\n",
      "epoch 300 loss 0.03\n",
      "epoch 350 loss 0.029\n",
      "epoch 400 loss 0.027\n",
      "epoch 450 loss 0.026\n",
      "epoch 500 loss 0.025\n",
      "epoch 550 loss 0.025\n",
      "epoch 600 loss 0.024\n",
      "epoch 650 loss 0.024\n",
      "epoch 700 loss 0.023\n",
      "epoch 750 loss 0.023\n",
      "epoch 800 loss 0.023\n",
      "epoch 850 loss 0.022\n",
      "epoch 900 loss 0.022\n",
      "epoch 950 loss 0.022\n",
      "epoch 1000 loss 0.021\n",
      "epoch 1050 loss 0.021\n",
      "epoch 1100 loss 0.021\n",
      "epoch 1150 loss 0.021\n",
      "epoch 1200 loss 0.02\n",
      "epoch 1250 loss 0.02\n",
      "epoch 1300 loss 0.02\n",
      "epoch 1350 loss 0.02\n",
      "epoch 1400 loss 0.02\n",
      "epoch 1450 loss 0.019\n",
      "epoch 1500 loss 0.019\n",
      "epoch 1550 loss 0.019\n",
      "epoch 1600 loss 0.019\n",
      "epoch 1650 loss 0.018\n",
      "epoch 1700 loss 0.018\n",
      "epoch 1750 loss 0.018\n",
      "epoch 1800 loss 0.018\n",
      "epoch 1850 loss 0.017\n",
      "epoch 1900 loss 0.017\n",
      "epoch 1950 loss 0.017\n",
      "epoch 2000 loss 0.017\n",
      "epoch 2050 loss 0.016\n",
      "epoch 2100 loss 0.016\n",
      "epoch 2150 loss 0.016\n",
      "epoch 2200 loss 0.015\n",
      "epoch 2250 loss 0.015\n",
      "epoch 2300 loss 0.014\n",
      "epoch 2350 loss 0.014\n",
      "epoch 2400 loss 0.014\n",
      "epoch 2450 loss 0.014\n",
      "epoch 2500 loss 0.013\n",
      "epoch 2550 loss 0.013\n",
      "epoch 2600 loss 0.013\n",
      "epoch 2650 loss 0.013\n",
      "epoch 2700 loss 0.013\n",
      "epoch 2750 loss 0.012\n",
      "epoch 2800 loss 0.012\n",
      "epoch 2850 loss 0.012\n",
      "epoch 2900 loss 0.012\n",
      "epoch 2950 loss 0.012\n",
      "epoch 3000 loss 0.012\n",
      "epoch 3050 loss 0.012\n",
      "epoch 3100 loss 0.011\n",
      "epoch 3150 loss 0.011\n",
      "epoch 3200 loss 0.011\n",
      "epoch 3250 loss 0.011\n",
      "epoch 3300 loss 0.011\n",
      "epoch 3350 loss 0.011\n",
      "epoch 3400 loss 0.01\n",
      "epoch 3450 loss 0.01\n",
      "epoch 3500 loss 0.01\n",
      "epoch 3550 loss 0.01\n",
      "epoch 3600 loss 0.01\n",
      "epoch 3650 loss 0.009\n"
     ]
    }
   ],
   "source": [
    "# np.random.seed(390) #390\n",
    "# torch.manual_seed(390)\n",
    "seed = 390\n",
    "torch.manual_seed(seed)\n",
    "torch.cuda.manual_seed(seed)\n",
    "torch.cuda.manual_seed_all(seed)  # if you are using multi-GPU.\n",
    "np.random.seed(seed)  # Numpy module.\n",
    "random.seed(seed)  # Python random module.\n",
    "torch.manual_seed(seed)\n",
    "torch.backends.cudnn.benchmark = False\n",
    "torch.backends.cudnn.deterministic = True\n",
    "learning_rate = 0.1\n",
    "criterion = nn.MSELoss() # mean squared error loss function\n",
    "mynet = Net(rep_size=13,hidden_size=20)\n",
    "device = 'cpu'\n",
    "if torch.cuda.is_available():\n",
    "    device = 'cuda'\n",
    "    print(\"Using CUDA\")\n",
    "else:\n",
    "    print(\"Using CPU\")\n",
    "if torch.cuda.device_count() > 1:\n",
    "    print(\"Using\", torch.cuda.device_count(), \"GPUs\")\n",
    "    mynet = nn.DataParallel(mynet)\n",
    "mynet.to(device)\n",
    "optimizer = torch.optim.SGD(mynet.parameters(), lr=learning_rate) # stochastic gradient descent\n",
    "#3600 epochs and seed = 390 (perfect network)\n",
    "nepochs_phase1 = 3400 \n",
    "nepochs_phase2 = 3600\n",
    "nepochs_phase3 = 3700\n",
    "epoch_count = 0\n",
    "epoch_count = train(mynet,epoch_count,nepochs_additional=nepochs_phase1)\n",
    "rep1 = get_rep(mynet)\n",
    "torch.save(mynet.state_dict(), \"model_4500.pth\")\n",
    "epoch_count = train(mynet,epoch_count,nepochs_additional=nepochs_phase2-nepochs_phase1)\n",
    "rep2 = get_rep(mynet)\n",
    "torch.save(mynet.state_dict(), \"model_4700.pth\")\n",
    "epoch_count = train(mynet,epoch_count,nepochs_additional=nepochs_phase3-nepochs_phase2)\n",
    "rep3 = get_rep(mynet)\n",
    "torch.save(mynet.state_dict(), \"model_4800.pth\")\n"
   ]
  },
  {
   "cell_type": "markdown",
   "metadata": {},
   "source": [
    "Finally, let's visualize the Representation Layer at the different stages of learning."
   ]
  },
  {
   "cell_type": "code",
   "execution_count": 8,
   "metadata": {
    "scrolled": true
   },
   "outputs": [
    {
     "data": {
      "image/png": "[encoded data removed]",
      "text/plain": [
       "<matplotlib.figure.Figure at 0x23d65535eb8>"
      ]
     },
     "metadata": {},
     "output_type": "display_data"
    },
    {
     "data": {
      "image/png": "[encoded data removed]",
      "text/plain": [
       "<matplotlib.figure.Figure at 0x23d65535ef0>"
      ]
     },
     "metadata": {},
     "output_type": "display_data"
    }
   ],
   "source": [
    "plot_rep(rep1,rep2,rep3,names_items)\n",
    "plot_dendo(rep1,rep2,rep3,names_items)"
   ]
  },
  {
   "cell_type": "code",
   "execution_count": 10,
   "metadata": {},
   "outputs": [
    {
     "name": "stderr",
     "output_type": "stream",
     "text": [
      "M:\\Anaconda\\lib\\site-packages\\fastai\\vision\\learner.py:105: UserWarning: `create_cnn` is deprecated and is now named `cnn_learner`.\n",
      "  warn(\"`create_cnn` is deprecated and is now named `cnn_learner`.\")\n"
     ]
    }
   ],
   "source": [
    "from fastai import *\n",
    "from fastai.vision import *\n",
    "from fastai.callbacks.hooks import *\n",
    "\n",
    "img_dir='./data/images'\n",
    "path=Path(img_dir)\n",
    "data = ImageDataBunch.from_folder(path, train=\".\", \n",
    "                                  valid_pct=0.2,\n",
    "                                  ds_tfms=get_transforms(do_flip=False,flip_vert=False, max_rotate=0,max_lighting=0.3),\n",
    "                                  size=224,bs=64, \n",
    "                                  num_workers=0).normalize(imagenet_stats)\n",
    "\n",
    "cnn_res = create_cnn(data, models.resnet34).load('25_epoch_resnet34')"
   ]
  },
  {
   "cell_type": "code",
   "execution_count": null,
   "metadata": {},
   "outputs": [],
   "source": []
  }
 ],
 "metadata": {
  "kernelspec": {
   "display_name": "Python 3",
   "language": "python",
   "name": "python3"
  },
  "language_info": {
   "codemirror_mode": {
    "name": "ipython",
    "version": 3
   },
   "file_extension": ".py",
   "mimetype": "text/x-python",
   "name": "python",
   "nbconvert_exporter": "python",
   "pygments_lexer": "ipython3",
   "version": "3.6.8"
  }
 },
 "nbformat": 4,
 "nbformat_minor": 2
}
